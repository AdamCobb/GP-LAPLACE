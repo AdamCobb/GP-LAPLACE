{
 "cells": [
  {
   "cell_type": "markdown",
   "metadata": {},
   "source": [
    "# Experiment: Stationary Attractors\n",
    "In this experiment, we place four agents in a stationary potential field, whereby each agent accelerates according to a vector field.\n",
    "\n",
    "For this specific example, the potential field consists of of two stationary attractors:\n",
    "\n",
    "<img src=\"./images/vec_field_stat.pdf\">\n",
    "\n",
    "This vector field shows how the two attractors change over time. For this example, there is no change."
   ]
  },
  {
   "cell_type": "code",
   "execution_count": 1,
   "metadata": {
    "collapsed": true
   },
   "outputs": [],
   "source": [
    "# Imports\n",
    "import random\n",
    "import pickle\n",
    "import numpy as np\n",
    "np.random.seed(seed=0)\n",
    "%matplotlib inline \n",
    "\n",
    "# Import: Our code\n",
    "import nb_utils\n",
    "import GP_deriv\n",
    "import GP_vec\n",
    "from MAS_exp import ContinuousEnvironment\n",
    "from utils_synthetic import plot_laplacian"
   ]
  },
  {
   "cell_type": "markdown",
   "metadata": {},
   "source": [
    "### Whether to load or run results:\n",
    "* Set to False to run model. It can take up to 20 minutes on a MacBook Pro (2015) but runs faster if more memory is available."
   ]
  },
  {
   "cell_type": "code",
   "execution_count": 2,
   "metadata": {
    "collapsed": true
   },
   "outputs": [],
   "source": [
    "load_dict = True"
   ]
  },
  {
   "cell_type": "markdown",
   "metadata": {},
   "source": [
    "### Initialise agents and environment\n",
    "We set the four agent starting locations to be evenly spaced in the environment. We also set the time-resolution (N) and the space-resolution (M) for which we calculate values of the Laplacian."
   ]
  },
  {
   "cell_type": "code",
   "execution_count": 3,
   "metadata": {
    "collapsed": true
   },
   "outputs": [],
   "source": [
    "N = 200 # Time-resolution\n",
    "M = 10  # Space-resolution\n",
    "agent_positions = [[2.,1.], [2,-1], [-2,-1], [-2,1]]\n",
    "\n",
    "env = ContinuousEnvironment(N, M)\n",
    "env.initialise_agents(agent_positions)"
   ]
  },
  {
   "cell_type": "markdown",
   "metadata": {},
   "source": [
    "### Set potential field\n",
    "\n",
    "We set the means and covariances of a Gaussian mixture model to determin our potential field, where each Gaussian acts as an attractor:\n",
    "\n",
    "Stationary attractors:\n",
    "\n",
    "$$ \\phi_1(\\mathbf{x},t) = \\sum^K_{i=1}\\alpha_i \\mathcal{N}\\big(\\mathbf{m}_i, c_i\\mathbf{I} \\big) $$\n"
   ]
  },
  {
   "cell_type": "code",
   "execution_count": 4,
   "metadata": {
    "collapsed": true
   },
   "outputs": [],
   "source": [
    "# means:\n",
    "mu1 = lambda x: np.array([[-1.5], [0.]])\n",
    "mu2 = lambda x: np.array([[1.5], [0.]])\n",
    "mean_list = list([mu1,mu2])\n",
    "# covariances\n",
    "cov1 = lambda x: (2.1) * np.eye(2)\n",
    "cov2 = lambda x: (2.1) * np.eye(2)\n",
    "cov_list = list([cov1,cov2])"
   ]
  },
  {
   "cell_type": "markdown",
   "metadata": {},
   "source": [
    "## Step through environment to simulate agent trajectories\n"
   ]
  },
  {
   "cell_type": "code",
   "execution_count": null,
   "metadata": {
    "collapsed": true
   },
   "outputs": [],
   "source": [
    "env.calculate_trajectories(mean_list, cov_list)\n",
    "x_train, y_train, t_train, x_test, y_test, t_test = env.get_trajectories()"
   ]
  },
  {
   "cell_type": "markdown",
   "metadata": {},
   "source": [
    "### Calculate ground truth for Laplacian"
   ]
  },
  {
   "cell_type": "code",
   "execution_count": null,
   "metadata": {
    "collapsed": true
   },
   "outputs": [],
   "source": [
    "env.potential(mean_list,cov_list)"
   ]
  },
  {
   "cell_type": "markdown",
   "metadata": {},
   "source": [
    "### Run GP vec calc on expert trajectories\n",
    "```x_train, y_train, t_train ```: list of x and y locations for each agent at each time-step\n",
    "\n",
    "```x_test, y_test ,t_test```: x, y and time test points over which to infer the GP model.\n"
   ]
  },
  {
   "cell_type": "markdown",
   "metadata": {},
   "source": [
    "### Run model\n",
    "We save the model results in a dictionary for plotting."
   ]
  },
  {
   "cell_type": "code",
   "execution_count": null,
   "metadata": {
    "collapsed": true,
    "scrolled": false
   },
   "outputs": [],
   "source": [
    "if not load_dict:\n",
    "    traj_model = GP_vec.Multiple_traj(x_train, y_train, t_train, x_test, y_test, t_test)    \n",
    "    \n",
    "    dic = {'X_true':env.X_test, 'Y_true':env.Y_test,\n",
    "           'lap_true': env.div_frames, 'lap_inf': traj_model.div_mesh,\n",
    "           'xloc_syn': traj_model.loc_time_ind_mesh_x, 'yloc_syn': traj_model.loc_time_ind_mesh_y,\n",
    "           'skl_div_syn': traj_model.KL_div_mesh_signed\n",
    "            }\n",
    "\n",
    "    del traj_model # Free the memory for our trajectory model.    \n",
    "    # pickle.dump( dic, open( \"../saved_models/exp_synthetic_stationary.p\", \"wb\" ) ) # Uncomment for saving new model    \n",
    "else:\n",
    "    dic = pickle.load( open( \"./../saved_models/exp_synthetic_stationary.p\", \"rb\" ) )"
   ]
  },
  {
   "cell_type": "markdown",
   "metadata": {},
   "source": [
    "# Plots\n",
    "Top row shows the True Laplacian, which is the ground truth.\n",
    "The middle row displays the inferred Laplacian from our model.\n",
    "The signed KL divergence is shown in the bottom row and displays the significance of each inferred attractor. Dark blue denotes an attractor and the black and white marker identifies the true location of the two attractors. Therefore our model locates the true attractors consistently througout the duration of the experiment from only observing four trajectories."
   ]
  },
  {
   "cell_type": "code",
   "execution_count": null,
   "metadata": {
    "scrolled": false
   },
   "outputs": [],
   "source": [
    "plot_laplacian(dic['X_true'], dic['Y_true'], \n",
    "               dic['lap_true'], dic['lap_inf'], \n",
    "               dic['xloc_syn'], dic['yloc_syn'], \n",
    "               dic['skl_div_syn'], T=[56,77,97,113,146], state = 'stat')"
   ]
  }
 ],
 "metadata": {
  "kernelspec": {
   "display_name": "Python 3",
   "language": "python",
   "name": "python3"
  },
  "language_info": {
   "codemirror_mode": {
    "name": "ipython",
    "version": 3
   },
   "file_extension": ".py",
   "mimetype": "text/x-python",
   "name": "python",
   "nbconvert_exporter": "python",
   "pygments_lexer": "ipython3",
   "version": "3.6.1"
  }
 },
 "nbformat": 4,
 "nbformat_minor": 2
}
